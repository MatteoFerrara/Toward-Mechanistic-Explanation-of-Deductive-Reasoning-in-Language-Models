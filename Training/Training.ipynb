{
 "cells": [
  {
   "cell_type": "markdown",
   "metadata": {},
   "source": [
    "# **Toward Mechanistic Explanation of Deductive Reasoning in Language Models**\n",
    "\n",
    "This notebook is designed to replicate the experimental work on the **nanoGPT** architecture presented in [D. Maltoni and M. Ferrara, *\"Toward Mechanistic Explanation of Deductive Reasoning in Language Models\"*, arXiv:2510.09340, 2025](https://arxiv.org/abs/2510.09340). It relies on the following Python scripts:\n",
    "- **logic_data.py** - provides functions to create, shuffle, and split the datasets used in the experimentation.\n",
    "- **model.py** - contains a modified version of the nanoGPT model originally implemented by [Andrej Karpathy](https://github.com/karpathy/nanoGPT).\n",
    "- **NanoGPTTraining.py** - defines the *nanogpt_training* function allowing multiple training executions (*run_count*) with the same number of epochs (**epochs**) on the same dataset.\n",
    "- **EnvUtilities.py** - contains the *setup_environment* function to configure the environment before starting the experiments.\n",
    "\n",
    "The following code imports all necessary modules and functions required to run this notebook."
   ]
  },
  {
   "cell_type": "code",
   "execution_count": null,
   "metadata": {},
   "outputs": [],
   "source": [
    "import numpy as np\n",
    "import matplotlib.pyplot as plt\n",
    "\n",
    "from NanoGPTTraining import nanogpt_training"
   ]
  },
  {
   "cell_type": "markdown",
   "metadata": {},
   "source": [
    "The following code cell reproduces the experiment used to generate Figures 1 and 6. To save the weights of the trained models, set the *out_folder_path* parameter to the directory where you want them stored. Running the full experiment (100 runs, each with 150 epochs) may take several hours. To reduce the execution time, set the *run_count* parameter to 1."
   ]
  },
  {
   "cell_type": "code",
   "execution_count": null,
   "metadata": {},
   "outputs": [],
   "source": [
    "run_count=100\n",
    "epochs=150\n",
    "mb_size=128\n",
    "out_folder_path=None\n",
    "\n",
    "run_train_seq_acc,run_val_seq_acc=nanogpt_training(run_count,epochs,mb_size,out_folder_path)"
   ]
  },
  {
   "cell_type": "markdown",
   "metadata": {},
   "source": [
    "The following code cell selects the runs that reached convergence. A run is considered converged if, at the end of the training, the sequence accuracy on both the training and validation sets is greater than *conv_thr*."
   ]
  },
  {
   "cell_type": "code",
   "execution_count": null,
   "metadata": {},
   "outputs": [],
   "source": [
    "conv_thr=0.999\n",
    "\n",
    "train_conv_runs=[]\n",
    "val_conv_runs=[]\n",
    "conv_run_count=0\n",
    "for run in range(run_count):\n",
    "    if run_val_seq_acc[run,-1]>conv_thr and run_train_seq_acc[run,-1]>conv_thr:\n",
    "        train_conv_runs.append(run_train_seq_acc[run])\n",
    "        val_conv_runs.append(run_val_seq_acc[run])\n",
    "        conv_run_count+=1\n",
    "\n",
    "print(f'Converged runs: {conv_run_count} out of {run_count} ({(conv_run_count/run_count)*100:4.2f}%)')"
   ]
  },
  {
   "cell_type": "markdown",
   "metadata": {},
   "source": [
    "Executing the cell below will reproduce Figure 1."
   ]
  },
  {
   "cell_type": "code",
   "execution_count": null,
   "metadata": {},
   "outputs": [],
   "source": [
    "#Figure 1\n",
    "\n",
    "avg_train_conv_runs=np.array(train_conv_runs).mean(axis=0)\n",
    "avg_val_conv_runs=np.array(val_conv_runs).mean(axis=0)\n",
    "\n",
    "plt.plot(avg_train_conv_runs*100,label='Train')\n",
    "plt.plot(avg_val_conv_runs*100,label='Val')\n",
    "plt.xlabel('Epochs')\n",
    "plt.ylabel('Sequence Accuracy (%)')\n",
    "plt.title(f'Average accuracy over {conv_run_count} runs reaching convergence')\n",
    "plt.legend()\n",
    "\n",
    "plt.show()"
   ]
  },
  {
   "cell_type": "markdown",
   "metadata": {},
   "source": [
    "Executing the cell below will reproduce Figure 6."
   ]
  },
  {
   "cell_type": "code",
   "execution_count": null,
   "metadata": {},
   "outputs": [],
   "source": [
    "#Figure 6\n",
    "\n",
    "plt.plot(run_train_seq_acc[7]*100,label='Train')\n",
    "plt.plot(run_val_seq_acc[7]*100,label='Val')\n",
    "plt.xlabel('Epochs')\n",
    "plt.ylabel('Sequence Accuracy (%)')\n",
    "plt.title(f'The model convergence during a specific run (run 8)')\n",
    "plt.legend()\n",
    "\n",
    "plt.show()"
   ]
  }
 ],
 "metadata": {
  "kernelspec": {
   "display_name": "torch",
   "language": "python",
   "name": "python3"
  },
  "language_info": {
   "codemirror_mode": {
    "name": "ipython",
    "version": 3
   },
   "file_extension": ".py",
   "mimetype": "text/x-python",
   "name": "python",
   "nbconvert_exporter": "python",
   "pygments_lexer": "ipython3",
   "version": "3.10.13"
  }
 },
 "nbformat": 4,
 "nbformat_minor": 2
}
